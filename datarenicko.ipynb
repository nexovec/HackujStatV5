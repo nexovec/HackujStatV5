{
 "cells": [
  {
   "cell_type": "code",
   "execution_count": 28,
   "metadata": {},
   "outputs": [],
   "source": [
    "import polars as pl"
   ]
  },
  {
   "cell_type": "code",
   "execution_count": 29,
   "metadata": {},
   "outputs": [],
   "source": [
    "# data = pl.read_csv(\"data/data_2022.csv\", dtypes={\"rok\": pl.Utf8,\"kodukaz\": pl.Utf8,\"koduzemi\":pl.Utf8,\"hodnota\":pl.Utf8 })\n",
    "# data = data.with_columns(pl.col(\"rok\", \"kodukaz\", \"koduzemi\").cast(pl.Int32), pl.col(\"hodnota\").cast(pl.Float64))\n",
    "# data.head()"
   ]
  },
  {
   "cell_type": "code",
   "execution_count": 30,
   "metadata": {},
   "outputs": [
    {
     "data": {
      "text/html": [
       "<div><style>\n",
       ".dataframe > thead > tr,\n",
       ".dataframe > tbody > tr {\n",
       "  text-align: right;\n",
       "  white-space: pre-wrap;\n",
       "}\n",
       "</style>\n",
       "<small>shape: (5, 4)</small><table border=\"1\" class=\"dataframe\"><thead><tr><th>rok</th><th>kodukaz</th><th>koduzemi</th><th>hodnota</th></tr><tr><td>i32</td><td>i32</td><td>i32</td><td>f32</td></tr></thead><tbody><tr><td>2021</td><td>10000</td><td>500011</td><td>0.0</td></tr><tr><td>2021</td><td>10000</td><td>500020</td><td>0.0</td></tr><tr><td>2021</td><td>10000</td><td>500046</td><td>0.0</td></tr><tr><td>2021</td><td>10000</td><td>500062</td><td>0.0</td></tr><tr><td>2021</td><td>10000</td><td>500071</td><td>0.0</td></tr></tbody></table></div>"
      ],
      "text/plain": [
       "shape: (5, 4)\n",
       "┌──────┬─────────┬──────────┬─────────┐\n",
       "│ rok  ┆ kodukaz ┆ koduzemi ┆ hodnota │\n",
       "│ ---  ┆ ---     ┆ ---      ┆ ---     │\n",
       "│ i32  ┆ i32     ┆ i32      ┆ f32     │\n",
       "╞══════╪═════════╪══════════╪═════════╡\n",
       "│ 2021 ┆ 10000   ┆ 500011   ┆ 0.0     │\n",
       "│ 2021 ┆ 10000   ┆ 500020   ┆ 0.0     │\n",
       "│ 2021 ┆ 10000   ┆ 500046   ┆ 0.0     │\n",
       "│ 2021 ┆ 10000   ┆ 500062   ┆ 0.0     │\n",
       "│ 2021 ┆ 10000   ┆ 500071   ┆ 0.0     │\n",
       "└──────┴─────────┴──────────┴─────────┘"
      ]
     },
     "execution_count": 30,
     "metadata": {},
     "output_type": "execute_result"
    }
   ],
   "source": [
    "from glob import glob\n",
    "files = glob(\"data/rocniky/*.csv\")\n",
    "handles = []\n",
    "for file in files:\n",
    "    data = pl.scan_csv(file, dtypes={\"rok\": pl.Utf8,\"kodukaz\": pl.Utf8,\"koduzemi\":pl.Utf8,\"hodnota\":pl.Utf8 })\n",
    "    data = data.with_columns(pl.col(\"rok\", \"kodukaz\", \"koduzemi\").cast(pl.Int32), pl.col(\"hodnota\").replace(\"i.d.\", None).cast(pl.Float32))\n",
    "    handles.append(data)\n",
    "data = pl.concat(handles, rechunk=True).collect()\n",
    "data.head()"
   ]
  },
  {
   "cell_type": "code",
   "execution_count": 31,
   "metadata": {},
   "outputs": [
    {
     "data": {
      "text/html": [
       "<div><style>\n",
       ".dataframe > thead > tr,\n",
       ".dataframe > tbody > tr {\n",
       "  text-align: right;\n",
       "  white-space: pre-wrap;\n",
       "}\n",
       "</style>\n",
       "<small>shape: (9, 5)</small><table border=\"1\" class=\"dataframe\"><thead><tr><th>describe</th><th>rok</th><th>kodukaz</th><th>koduzemi</th><th>hodnota</th></tr><tr><td>str</td><td>f64</td><td>f64</td><td>f64</td><td>f64</td></tr></thead><tbody><tr><td>&quot;count&quot;</td><td>3.1808629e7</td><td>3.1808629e7</td><td>3.1808629e7</td><td>3.1643706e7</td></tr><tr><td>&quot;null_count&quot;</td><td>0.0</td><td>0.0</td><td>0.0</td><td>164923.0</td></tr><tr><td>&quot;mean&quot;</td><td>2012.068702</td><td>255784.513997</td><td>561937.994021</td><td>1001.198425</td></tr><tr><td>&quot;std&quot;</td><td>5.903338</td><td>187073.180664</td><td>23196.253034</td><td>110526.578125</td></tr><tr><td>&quot;min&quot;</td><td>2000.0</td><td>10000.0</td><td>500011.0</td><td>-5.1695e6</td></tr><tr><td>&quot;25%&quot;</td><td>2007.0</td><td>110720.0</td><td>542636.0</td><td>0.0</td></tr><tr><td>&quot;50%&quot;</td><td>2012.0</td><td>160510.0</td><td>563579.0</td><td>2.0</td></tr><tr><td>&quot;75%&quot;</td><td>2017.0</td><td>502050.0</td><td>581569.0</td><td>24.0</td></tr><tr><td>&quot;max&quot;</td><td>2022.0</td><td>600811.0</td><td>599999.0</td><td>1.05636408e8</td></tr></tbody></table></div>"
      ],
      "text/plain": [
       "shape: (9, 5)\n",
       "┌────────────┬─────────────┬───────────────┬───────────────┬───────────────┐\n",
       "│ describe   ┆ rok         ┆ kodukaz       ┆ koduzemi      ┆ hodnota       │\n",
       "│ ---        ┆ ---         ┆ ---           ┆ ---           ┆ ---           │\n",
       "│ str        ┆ f64         ┆ f64           ┆ f64           ┆ f64           │\n",
       "╞════════════╪═════════════╪═══════════════╪═══════════════╪═══════════════╡\n",
       "│ count      ┆ 3.1808629e7 ┆ 3.1808629e7   ┆ 3.1808629e7   ┆ 3.1643706e7   │\n",
       "│ null_count ┆ 0.0         ┆ 0.0           ┆ 0.0           ┆ 164923.0      │\n",
       "│ mean       ┆ 2012.068702 ┆ 255784.513997 ┆ 561937.994021 ┆ 1001.198425   │\n",
       "│ std        ┆ 5.903338    ┆ 187073.180664 ┆ 23196.253034  ┆ 110526.578125 │\n",
       "│ min        ┆ 2000.0      ┆ 10000.0       ┆ 500011.0      ┆ -5.1695e6     │\n",
       "│ 25%        ┆ 2007.0      ┆ 110720.0      ┆ 542636.0      ┆ 0.0           │\n",
       "│ 50%        ┆ 2012.0      ┆ 160510.0      ┆ 563579.0      ┆ 2.0           │\n",
       "│ 75%        ┆ 2017.0      ┆ 502050.0      ┆ 581569.0      ┆ 24.0          │\n",
       "│ max        ┆ 2022.0      ┆ 600811.0      ┆ 599999.0      ┆ 1.05636408e8  │\n",
       "└────────────┴─────────────┴───────────────┴───────────────┴───────────────┘"
      ]
     },
     "execution_count": 31,
     "metadata": {},
     "output_type": "execute_result"
    }
   ],
   "source": [
    "data.describe()"
   ]
  },
  {
   "cell_type": "code",
   "execution_count": 32,
   "metadata": {},
   "outputs": [],
   "source": [
    "data.write_parquet(\"data/data.parquet\", compression=\"brotli\", compression_level=5)"
   ]
  },
  {
   "cell_type": "code",
   "execution_count": 33,
   "metadata": {},
   "outputs": [
    {
     "data": {
      "text/html": [
       "<div><style>\n",
       ".dataframe > thead > tr,\n",
       ".dataframe > tbody > tr {\n",
       "  text-align: right;\n",
       "  white-space: pre-wrap;\n",
       "}\n",
       "</style>\n",
       "<small>shape: (5, 6)</small><table border=\"1\" class=\"dataframe\"><thead><tr><th>koduzemi</th><th>obec</th><th>platiod</th><th>platido</th><th>okres</th><th>soorp&quot;</th></tr><tr><td>i32</td><td>str</td><td>str</td><td>i32</td><td>str</td><td>str</td></tr></thead><tbody><tr><td>500011</td><td>&quot;Želechovice na…</td><td>&quot;2009&quot;</td><td>9999</td><td>&quot;Zlín&quot;</td><td>&quot;ZLÍN&quot;</td></tr><tr><td>500020</td><td>&quot;Petrov nad Des…</td><td>&quot;2010&quot;</td><td>9999</td><td>&quot;Šumperk&quot;</td><td>&quot;ŠUMPERK&quot;</td></tr><tr><td>500046</td><td>&quot;Libhošť&quot;</td><td>&quot;2011&quot;</td><td>9999</td><td>&quot;Nový Jičín&quot;</td><td>&quot;NOVÝ JIČÍN&quot;</td></tr><tr><td>500062</td><td>&quot;Krhová&quot;</td><td>&quot;2013&quot;</td><td>9999</td><td>&quot;Vsetín&quot;</td><td>&quot;VALAŠSKÉ MEZIŘ…</td></tr><tr><td>500071</td><td>&quot;Poličná&quot;</td><td>&quot;2013&quot;</td><td>9999</td><td>&quot;Vsetín&quot;</td><td>&quot;VALAŠSKÉ MEZIŘ…</td></tr></tbody></table></div>"
      ],
      "text/plain": [
       "shape: (5, 6)\n",
       "┌──────────┬──────────────────────────┬─────────┬─────────┬────────────┬───────────────────┐\n",
       "│ koduzemi ┆ obec                     ┆ platiod ┆ platido ┆ okres      ┆ soorp\"            │\n",
       "│ ---      ┆ ---                      ┆ ---     ┆ ---     ┆ ---        ┆ ---               │\n",
       "│ i32      ┆ str                      ┆ str     ┆ i32     ┆ str        ┆ str               │\n",
       "╞══════════╪══════════════════════════╪═════════╪═════════╪════════════╪═══════════════════╡\n",
       "│ 500011   ┆ Želechovice nad Dřevnicí ┆ 2009    ┆ 9999    ┆ Zlín       ┆ ZLÍN              │\n",
       "│ 500020   ┆ Petrov nad Desnou        ┆ 2010    ┆ 9999    ┆ Šumperk    ┆ ŠUMPERK           │\n",
       "│ 500046   ┆ Libhošť                  ┆ 2011    ┆ 9999    ┆ Nový Jičín ┆ NOVÝ JIČÍN        │\n",
       "│ 500062   ┆ Krhová                   ┆ 2013    ┆ 9999    ┆ Vsetín     ┆ VALAŠSKÉ MEZIŘÍČÍ │\n",
       "│ 500071   ┆ Poličná                  ┆ 2013    ┆ 9999    ┆ Vsetín     ┆ VALAŠSKÉ MEZIŘÍČÍ │\n",
       "└──────────┴──────────────────────────┴─────────┴─────────┴────────────┴───────────────────┘"
      ]
     },
     "execution_count": 33,
     "metadata": {},
     "output_type": "execute_result"
    }
   ],
   "source": [
    "# columns \"koduzemi\",\"obec\",platiod,platido,\"okres\",\"soorp\"\n",
    "uzemi_types = {\"koduzemi\": pl.Utf8, \"nazevuzemi\": pl.Utf8, \"obec\": pl.Utf8, \"platiod\": pl.Utf8, \"platido\": pl.Utf8, \"okres\": pl.Utf8, \"soorp\": pl.Utf8}\n",
    "uzemi = pl.read_csv(\"data/cis_uzemi.csv\", dtypes=uzemi_types)\n",
    "uzemi = uzemi.with_columns(pl.col(\"koduzemi\", \"platido\").cast(pl.Int32))\n",
    "uzemi.head()"
   ]
  },
  {
   "cell_type": "code",
   "execution_count": 34,
   "metadata": {},
   "outputs": [
    {
     "data": {
      "text/html": [
       "<div><style>\n",
       ".dataframe > thead > tr,\n",
       ".dataframe > tbody > tr {\n",
       "  text-align: right;\n",
       "  white-space: pre-wrap;\n",
       "}\n",
       "</style>\n",
       "<small>shape: (9, 7)</small><table border=\"1\" class=\"dataframe\"><thead><tr><th>describe</th><th>rok</th><th>kodukaz</th><th>koduzemi</th><th>hodnota</th><th>obec</th><th>okres</th></tr><tr><td>str</td><td>f64</td><td>f64</td><td>f64</td><td>f64</td><td>str</td><td>str</td></tr></thead><tbody><tr><td>&quot;count&quot;</td><td>3.2706998e7</td><td>3.2706998e7</td><td>3.2706998e7</td><td>3.2537761e7</td><td>&quot;32706998&quot;</td><td>&quot;32706998&quot;</td></tr><tr><td>&quot;null_count&quot;</td><td>0.0</td><td>0.0</td><td>0.0</td><td>169237.0</td><td>&quot;0&quot;</td><td>&quot;0&quot;</td></tr><tr><td>&quot;mean&quot;</td><td>2012.067379</td><td>255741.670915</td><td>562092.877213</td><td>984.799622</td><td>null</td><td>null</td></tr><tr><td>&quot;std&quot;</td><td>5.903117</td><td>187060.367991</td><td>23267.486766</td><td>108999.4375</td><td>null</td><td>null</td></tr><tr><td>&quot;min&quot;</td><td>2000.0</td><td>10000.0</td><td>500011.0</td><td>-5.1695e6</td><td>&quot;Abertamy&quot;</td><td>&quot;Benešov&quot;</td></tr><tr><td>&quot;25%&quot;</td><td>2007.0</td><td>110720.0</td><td>542644.0</td><td>0.0</td><td>null</td><td>null</td></tr><tr><td>&quot;50%&quot;</td><td>2012.0</td><td>160510.0</td><td>563714.0</td><td>2.0</td><td>null</td><td>null</td></tr><tr><td>&quot;75%&quot;</td><td>2017.0</td><td>502050.0</td><td>581887.0</td><td>24.0</td><td>null</td><td>null</td></tr><tr><td>&quot;max&quot;</td><td>2022.0</td><td>600811.0</td><td>599999.0</td><td>1.05636408e8</td><td>&quot;Žďárná&quot;</td><td>&quot;Žďár nad Sázav…</td></tr></tbody></table></div>"
      ],
      "text/plain": [
       "shape: (9, 7)\n",
       "┌────────────┬─────────────┬─────────────────┬────────────────┬──────────────┬──────────┬──────────┐\n",
       "│ describe   ┆ rok         ┆ kodukaz         ┆ koduzemi       ┆ hodnota      ┆ obec     ┆ okres    │\n",
       "│ ---        ┆ ---         ┆ ---             ┆ ---            ┆ ---          ┆ ---      ┆ ---      │\n",
       "│ str        ┆ f64         ┆ f64             ┆ f64            ┆ f64          ┆ str      ┆ str      │\n",
       "╞════════════╪═════════════╪═════════════════╪════════════════╪══════════════╪══════════╪══════════╡\n",
       "│ count      ┆ 3.2706998e7 ┆ 3.2706998e7     ┆ 3.2706998e7    ┆ 3.2537761e7  ┆ 32706998 ┆ 32706998 │\n",
       "│ null_count ┆ 0.0         ┆ 0.0             ┆ 0.0            ┆ 169237.0     ┆ 0        ┆ 0        │\n",
       "│ mean       ┆ 2012.067379 ┆ 255741.670915   ┆ 562092.877213  ┆ 984.799622   ┆ null     ┆ null     │\n",
       "│ std        ┆ 5.903117    ┆ 187060.367991   ┆ 23267.486766   ┆ 108999.4375  ┆ null     ┆ null     │\n",
       "│ min        ┆ 2000.0      ┆ 10000.0         ┆ 500011.0       ┆ -5.1695e6    ┆ Abertamy ┆ Benešov  │\n",
       "│ 25%        ┆ 2007.0      ┆ 110720.0        ┆ 542644.0       ┆ 0.0          ┆ null     ┆ null     │\n",
       "│ 50%        ┆ 2012.0      ┆ 160510.0        ┆ 563714.0       ┆ 2.0          ┆ null     ┆ null     │\n",
       "│ 75%        ┆ 2017.0      ┆ 502050.0        ┆ 581887.0       ┆ 24.0         ┆ null     ┆ null     │\n",
       "│ max        ┆ 2022.0      ┆ 600811.0        ┆ 599999.0       ┆ 1.05636408e8 ┆ Žďárná   ┆ Žďár nad │\n",
       "│            ┆             ┆                 ┆                ┆              ┆          ┆ Sázavou  │\n",
       "└────────────┴─────────────┴─────────────────┴────────────────┴──────────────┴──────────┴──────────┘"
      ]
     },
     "execution_count": 34,
     "metadata": {},
     "output_type": "execute_result"
    }
   ],
   "source": [
    "data= pl.read_parquet(\"data/data.parquet\").lazy()\n",
    "joined = data.select(\"rok\", \"kodukaz\", \"koduzemi\", \"hodnota\").join(uzemi.lazy().select(\"koduzemi\", \"obec\", \"okres\"), on=\"koduzemi\", how=\"inner\").collect()\n",
    "joined.describe()"
   ]
  },
  {
   "cell_type": "code",
   "execution_count": 35,
   "metadata": {},
   "outputs": [
    {
     "name": "stdout",
     "output_type": "stream",
     "text": [
      "591 ms ± 6.66 ms per loop (mean ± std. dev. of 7 runs, 1 loop each)\n"
     ]
    }
   ],
   "source": [
    "%timeit for x in range(10): joined.lazy().filter(pl.col(\"rok\") == 2022, pl.col(\"okres\") == \"Praha\").select(\"obec\", \"hodnota\").sort(\"hodnota\").collect()"
   ]
  },
  {
   "cell_type": "code",
   "execution_count": 42,
   "metadata": {},
   "outputs": [
    {
     "name": "stdout",
     "output_type": "stream",
     "text": [
      "2000\n",
      "2001\n",
      "2002\n",
      "2003\n",
      "2004\n",
      "2005\n",
      "2006\n",
      "2007\n",
      "2008\n",
      "2009\n",
      "2010\n",
      "2011\n",
      "2012\n",
      "2013\n",
      "2014\n",
      "2015\n",
      "2016\n",
      "2017\n",
      "2018\n",
      "2019\n",
      "2020\n",
      "2021\n",
      "2022\n"
     ]
    },
    {
     "data": {
      "text/html": [
       "<div><style>\n",
       ".dataframe > thead > tr,\n",
       ".dataframe > tbody > tr {\n",
       "  text-align: right;\n",
       "  white-space: pre-wrap;\n",
       "}\n",
       "</style>\n",
       "<small>shape: (0, 2)</small><table border=\"1\" class=\"dataframe\"><thead><tr><th>obec</th><th>hodnota</th></tr><tr><td>str</td><td>f32</td></tr></thead><tbody></tbody></table></div>"
      ],
      "text/plain": [
       "shape: (0, 2)\n",
       "┌──────┬─────────┐\n",
       "│ obec ┆ hodnota │\n",
       "│ ---  ┆ ---     │\n",
       "│ str  ┆ f32     │\n",
       "╞══════╪═════════╡\n",
       "└──────┴─────────┘"
      ]
     },
     "execution_count": 42,
     "metadata": {},
     "output_type": "execute_result"
    }
   ],
   "source": [
    "cached_years = {}\n",
    "for year in list(joined.unique(\"rok\").select(\"rok\").sort(\"rok\").to_dict()[\"rok\"]):\n",
    "    print(year)\n",
    "    cached_years[year] = joined.filter(pl.col(\"rok\") == year)"
   ]
  },
  {
   "cell_type": "code",
   "execution_count": 40,
   "metadata": {},
   "outputs": [
    {
     "ename": "KeyError",
     "evalue": "'2021'",
     "output_type": "error",
     "traceback": [
      "\u001b[0;31m---------------------------------------------------------------------------\u001b[0m",
      "\u001b[0;31mKeyError\u001b[0m                                  Traceback (most recent call last)",
      "Cell \u001b[0;32mIn[40], line 1\u001b[0m\n\u001b[0;32m----> 1\u001b[0m \u001b[43mget_ipython\u001b[49m\u001b[43m(\u001b[49m\u001b[43m)\u001b[49m\u001b[38;5;241;43m.\u001b[39;49m\u001b[43mrun_line_magic\u001b[49m\u001b[43m(\u001b[49m\u001b[38;5;124;43m'\u001b[39;49m\u001b[38;5;124;43mtimeit\u001b[39;49m\u001b[38;5;124;43m'\u001b[39;49m\u001b[43m,\u001b[49m\u001b[43m \u001b[49m\u001b[38;5;124;43m'\u001b[39;49m\u001b[38;5;124;43mfor x in range(10): cached_years[\u001b[39;49m\u001b[38;5;124;43m\"\u001b[39;49m\u001b[38;5;124;43m2021\u001b[39;49m\u001b[38;5;124;43m\"\u001b[39;49m\u001b[38;5;124;43m].lazy().filter(pl.col(\u001b[39;49m\u001b[38;5;124;43m\"\u001b[39;49m\u001b[38;5;124;43mokres\u001b[39;49m\u001b[38;5;124;43m\"\u001b[39;49m\u001b[38;5;124;43m) == \u001b[39;49m\u001b[38;5;124;43m\"\u001b[39;49m\u001b[38;5;124;43mPraha\u001b[39;49m\u001b[38;5;124;43m\"\u001b[39;49m\u001b[38;5;124;43m).select(\u001b[39;49m\u001b[38;5;124;43m\"\u001b[39;49m\u001b[38;5;124;43mobec\u001b[39;49m\u001b[38;5;124;43m\"\u001b[39;49m\u001b[38;5;124;43m, \u001b[39;49m\u001b[38;5;124;43m\"\u001b[39;49m\u001b[38;5;124;43mhodnota\u001b[39;49m\u001b[38;5;124;43m\"\u001b[39;49m\u001b[38;5;124;43m).sort(\u001b[39;49m\u001b[38;5;124;43m\"\u001b[39;49m\u001b[38;5;124;43mhodnota\u001b[39;49m\u001b[38;5;124;43m\"\u001b[39;49m\u001b[38;5;124;43m).collect()\u001b[39;49m\u001b[38;5;124;43m'\u001b[39;49m\u001b[43m)\u001b[49m\n",
      "File \u001b[0;32m~/miniconda3/envs/HackujStatV5/lib/python3.10/site-packages/IPython/core/interactiveshell.py:2456\u001b[0m, in \u001b[0;36mInteractiveShell.run_line_magic\u001b[0;34m(self, magic_name, line, _stack_depth)\u001b[0m\n\u001b[1;32m   2454\u001b[0m     kwargs[\u001b[38;5;124m'\u001b[39m\u001b[38;5;124mlocal_ns\u001b[39m\u001b[38;5;124m'\u001b[39m] \u001b[38;5;241m=\u001b[39m \u001b[38;5;28mself\u001b[39m\u001b[38;5;241m.\u001b[39mget_local_scope(stack_depth)\n\u001b[1;32m   2455\u001b[0m \u001b[38;5;28;01mwith\u001b[39;00m \u001b[38;5;28mself\u001b[39m\u001b[38;5;241m.\u001b[39mbuiltin_trap:\n\u001b[0;32m-> 2456\u001b[0m     result \u001b[38;5;241m=\u001b[39m \u001b[43mfn\u001b[49m\u001b[43m(\u001b[49m\u001b[38;5;241;43m*\u001b[39;49m\u001b[43margs\u001b[49m\u001b[43m,\u001b[49m\u001b[43m \u001b[49m\u001b[38;5;241;43m*\u001b[39;49m\u001b[38;5;241;43m*\u001b[39;49m\u001b[43mkwargs\u001b[49m\u001b[43m)\u001b[49m\n\u001b[1;32m   2458\u001b[0m \u001b[38;5;66;03m# The code below prevents the output from being displayed\u001b[39;00m\n\u001b[1;32m   2459\u001b[0m \u001b[38;5;66;03m# when using magics with decorator @output_can_be_silenced\u001b[39;00m\n\u001b[1;32m   2460\u001b[0m \u001b[38;5;66;03m# when the last Python token in the expression is a ';'.\u001b[39;00m\n\u001b[1;32m   2461\u001b[0m \u001b[38;5;28;01mif\u001b[39;00m \u001b[38;5;28mgetattr\u001b[39m(fn, magic\u001b[38;5;241m.\u001b[39mMAGIC_OUTPUT_CAN_BE_SILENCED, \u001b[38;5;28;01mFalse\u001b[39;00m):\n",
      "File \u001b[0;32m~/miniconda3/envs/HackujStatV5/lib/python3.10/site-packages/IPython/core/magics/execution.py:1185\u001b[0m, in \u001b[0;36mExecutionMagics.timeit\u001b[0;34m(self, line, cell, local_ns)\u001b[0m\n\u001b[1;32m   1183\u001b[0m \u001b[38;5;28;01mfor\u001b[39;00m index \u001b[38;5;129;01min\u001b[39;00m \u001b[38;5;28mrange\u001b[39m(\u001b[38;5;241m0\u001b[39m, \u001b[38;5;241m10\u001b[39m):\n\u001b[1;32m   1184\u001b[0m     number \u001b[38;5;241m=\u001b[39m \u001b[38;5;241m10\u001b[39m \u001b[38;5;241m*\u001b[39m\u001b[38;5;241m*\u001b[39m index\n\u001b[0;32m-> 1185\u001b[0m     time_number \u001b[38;5;241m=\u001b[39m \u001b[43mtimer\u001b[49m\u001b[38;5;241;43m.\u001b[39;49m\u001b[43mtimeit\u001b[49m\u001b[43m(\u001b[49m\u001b[43mnumber\u001b[49m\u001b[43m)\u001b[49m\n\u001b[1;32m   1186\u001b[0m     \u001b[38;5;28;01mif\u001b[39;00m time_number \u001b[38;5;241m>\u001b[39m\u001b[38;5;241m=\u001b[39m \u001b[38;5;241m0.2\u001b[39m:\n\u001b[1;32m   1187\u001b[0m         \u001b[38;5;28;01mbreak\u001b[39;00m\n",
      "File \u001b[0;32m~/miniconda3/envs/HackujStatV5/lib/python3.10/site-packages/IPython/core/magics/execution.py:173\u001b[0m, in \u001b[0;36mTimer.timeit\u001b[0;34m(self, number)\u001b[0m\n\u001b[1;32m    171\u001b[0m gc\u001b[38;5;241m.\u001b[39mdisable()\n\u001b[1;32m    172\u001b[0m \u001b[38;5;28;01mtry\u001b[39;00m:\n\u001b[0;32m--> 173\u001b[0m     timing \u001b[38;5;241m=\u001b[39m \u001b[38;5;28;43mself\u001b[39;49m\u001b[38;5;241;43m.\u001b[39;49m\u001b[43minner\u001b[49m\u001b[43m(\u001b[49m\u001b[43mit\u001b[49m\u001b[43m,\u001b[49m\u001b[43m \u001b[49m\u001b[38;5;28;43mself\u001b[39;49m\u001b[38;5;241;43m.\u001b[39;49m\u001b[43mtimer\u001b[49m\u001b[43m)\u001b[49m\n\u001b[1;32m    174\u001b[0m \u001b[38;5;28;01mfinally\u001b[39;00m:\n\u001b[1;32m    175\u001b[0m     \u001b[38;5;28;01mif\u001b[39;00m gcold:\n",
      "File \u001b[0;32m<magic-timeit>:1\u001b[0m, in \u001b[0;36minner\u001b[0;34m(_it, _timer)\u001b[0m\n",
      "\u001b[0;31mKeyError\u001b[0m: '2021'"
     ]
    }
   ],
   "source": [
    "\n",
    "%timeit for x in range(10): cached_years[2021].lazy().filter(pl.col(\"okres\") == \"Praha\").select(\"obec\", \"hodnota\").sort(\"hodnota\").collect()"
   ]
  },
  {
   "cell_type": "code",
   "execution_count": null,
   "metadata": {},
   "outputs": [],
   "source": []
  }
 ],
 "metadata": {
  "kernelspec": {
   "display_name": "HackujStatV5",
   "language": "python",
   "name": "python3"
  },
  "language_info": {
   "codemirror_mode": {
    "name": "ipython",
    "version": 3
   },
   "file_extension": ".py",
   "mimetype": "text/x-python",
   "name": "python",
   "nbconvert_exporter": "python",
   "pygments_lexer": "ipython3",
   "version": "3.10.13"
  }
 },
 "nbformat": 4,
 "nbformat_minor": 2
}
