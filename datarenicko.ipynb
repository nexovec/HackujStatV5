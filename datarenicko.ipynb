{
 "cells": [
  {
   "cell_type": "code",
   "execution_count": 1,
   "metadata": {},
   "outputs": [],
   "source": [
    "import polars as pl"
   ]
  },
  {
   "cell_type": "code",
   "execution_count": 2,
   "metadata": {},
   "outputs": [],
   "source": [
    "# data = pl.read_csv(\"data/data_2022.csv\", dtypes={\"rok\": pl.Utf8,\"kodukaz\": pl.Utf8,\"koduzemi\":pl.Utf8,\"hodnota\":pl.Utf8 })\n",
    "# data = data.with_columns(pl.col(\"rok\", \"kodukaz\", \"koduzemi\").cast(pl.Int32), pl.col(\"hodnota\").cast(pl.Float64))\n",
    "# data.head()"
   ]
  },
  {
   "cell_type": "code",
   "execution_count": 3,
   "metadata": {},
   "outputs": [
    {
     "data": {
      "text/html": [
       "<div><style>\n",
       ".dataframe > thead > tr,\n",
       ".dataframe > tbody > tr {\n",
       "  text-align: right;\n",
       "  white-space: pre-wrap;\n",
       "}\n",
       "</style>\n",
       "<small>shape: (5, 4)</small><table border=\"1\" class=\"dataframe\"><thead><tr><th>rok</th><th>kodukaz</th><th>koduzemi</th><th>hodnota</th></tr><tr><td>i32</td><td>i32</td><td>i32</td><td>f32</td></tr></thead><tbody><tr><td>2021</td><td>10000</td><td>500011</td><td>0.0</td></tr><tr><td>2021</td><td>10000</td><td>500020</td><td>0.0</td></tr><tr><td>2021</td><td>10000</td><td>500046</td><td>0.0</td></tr><tr><td>2021</td><td>10000</td><td>500062</td><td>0.0</td></tr><tr><td>2021</td><td>10000</td><td>500071</td><td>0.0</td></tr></tbody></table></div>"
      ],
      "text/plain": [
       "shape: (5, 4)\n",
       "┌──────┬─────────┬──────────┬─────────┐\n",
       "│ rok  ┆ kodukaz ┆ koduzemi ┆ hodnota │\n",
       "│ ---  ┆ ---     ┆ ---      ┆ ---     │\n",
       "│ i32  ┆ i32     ┆ i32      ┆ f32     │\n",
       "╞══════╪═════════╪══════════╪═════════╡\n",
       "│ 2021 ┆ 10000   ┆ 500011   ┆ 0.0     │\n",
       "│ 2021 ┆ 10000   ┆ 500020   ┆ 0.0     │\n",
       "│ 2021 ┆ 10000   ┆ 500046   ┆ 0.0     │\n",
       "│ 2021 ┆ 10000   ┆ 500062   ┆ 0.0     │\n",
       "│ 2021 ┆ 10000   ┆ 500071   ┆ 0.0     │\n",
       "└──────┴─────────┴──────────┴─────────┘"
      ]
     },
     "execution_count": 3,
     "metadata": {},
     "output_type": "execute_result"
    }
   ],
   "source": [
    "from glob import glob\n",
    "files = glob(\"data/rocniky/*.csv\")\n",
    "handles = []\n",
    "for file in files:\n",
    "    data = pl.scan_csv(file, dtypes={\"rok\": pl.Utf8,\"kodukaz\": pl.Utf8,\"koduzemi\":pl.Utf8,\"hodnota\":pl.Utf8 })\n",
    "    data = data.with_columns(pl.col(\"rok\", \"kodukaz\", \"koduzemi\").cast(pl.Int32), pl.col(\"hodnota\").replace(\"i.d.\", None).cast(pl.Float32))\n",
    "    handles.append(data)\n",
    "data = pl.concat(handles, rechunk=True).collect()\n",
    "data.head()"
   ]
  },
  {
   "cell_type": "code",
   "execution_count": 4,
   "metadata": {},
   "outputs": [
    {
     "data": {
      "text/html": [
       "<div><style>\n",
       ".dataframe > thead > tr,\n",
       ".dataframe > tbody > tr {\n",
       "  text-align: right;\n",
       "  white-space: pre-wrap;\n",
       "}\n",
       "</style>\n",
       "<small>shape: (9, 5)</small><table border=\"1\" class=\"dataframe\"><thead><tr><th>describe</th><th>rok</th><th>kodukaz</th><th>koduzemi</th><th>hodnota</th></tr><tr><td>str</td><td>f64</td><td>f64</td><td>f64</td><td>f64</td></tr></thead><tbody><tr><td>&quot;count&quot;</td><td>3.1808629e7</td><td>3.1808629e7</td><td>3.1808629e7</td><td>3.1643706e7</td></tr><tr><td>&quot;null_count&quot;</td><td>0.0</td><td>0.0</td><td>0.0</td><td>164923.0</td></tr><tr><td>&quot;mean&quot;</td><td>2012.068702</td><td>255784.513997</td><td>561937.994021</td><td>1001.198425</td></tr><tr><td>&quot;std&quot;</td><td>5.903338</td><td>187073.180664</td><td>23196.253034</td><td>110526.578125</td></tr><tr><td>&quot;min&quot;</td><td>2000.0</td><td>10000.0</td><td>500011.0</td><td>-5.1695e6</td></tr><tr><td>&quot;25%&quot;</td><td>2007.0</td><td>110720.0</td><td>542636.0</td><td>0.0</td></tr><tr><td>&quot;50%&quot;</td><td>2012.0</td><td>160510.0</td><td>563579.0</td><td>2.0</td></tr><tr><td>&quot;75%&quot;</td><td>2017.0</td><td>502050.0</td><td>581569.0</td><td>24.0</td></tr><tr><td>&quot;max&quot;</td><td>2022.0</td><td>600811.0</td><td>599999.0</td><td>1.05636408e8</td></tr></tbody></table></div>"
      ],
      "text/plain": [
       "shape: (9, 5)\n",
       "┌────────────┬─────────────┬───────────────┬───────────────┬───────────────┐\n",
       "│ describe   ┆ rok         ┆ kodukaz       ┆ koduzemi      ┆ hodnota       │\n",
       "│ ---        ┆ ---         ┆ ---           ┆ ---           ┆ ---           │\n",
       "│ str        ┆ f64         ┆ f64           ┆ f64           ┆ f64           │\n",
       "╞════════════╪═════════════╪═══════════════╪═══════════════╪═══════════════╡\n",
       "│ count      ┆ 3.1808629e7 ┆ 3.1808629e7   ┆ 3.1808629e7   ┆ 3.1643706e7   │\n",
       "│ null_count ┆ 0.0         ┆ 0.0           ┆ 0.0           ┆ 164923.0      │\n",
       "│ mean       ┆ 2012.068702 ┆ 255784.513997 ┆ 561937.994021 ┆ 1001.198425   │\n",
       "│ std        ┆ 5.903338    ┆ 187073.180664 ┆ 23196.253034  ┆ 110526.578125 │\n",
       "│ min        ┆ 2000.0      ┆ 10000.0       ┆ 500011.0      ┆ -5.1695e6     │\n",
       "│ 25%        ┆ 2007.0      ┆ 110720.0      ┆ 542636.0      ┆ 0.0           │\n",
       "│ 50%        ┆ 2012.0      ┆ 160510.0      ┆ 563579.0      ┆ 2.0           │\n",
       "│ 75%        ┆ 2017.0      ┆ 502050.0      ┆ 581569.0      ┆ 24.0          │\n",
       "│ max        ┆ 2022.0      ┆ 600811.0      ┆ 599999.0      ┆ 1.05636408e8  │\n",
       "└────────────┴─────────────┴───────────────┴───────────────┴───────────────┘"
      ]
     },
     "execution_count": 4,
     "metadata": {},
     "output_type": "execute_result"
    }
   ],
   "source": [
    "data.describe()"
   ]
  },
  {
   "cell_type": "code",
   "execution_count": 5,
   "metadata": {},
   "outputs": [],
   "source": [
    "data.write_parquet(\"data/data.parquet\", compression=\"brotli\", compression_level=5)"
   ]
  },
  {
   "cell_type": "code",
   "execution_count": 6,
   "metadata": {},
   "outputs": [
    {
     "data": {
      "text/html": [
       "<div><style>\n",
       ".dataframe > thead > tr,\n",
       ".dataframe > tbody > tr {\n",
       "  text-align: right;\n",
       "  white-space: pre-wrap;\n",
       "}\n",
       "</style>\n",
       "<small>shape: (5, 6)</small><table border=\"1\" class=\"dataframe\"><thead><tr><th>koduzemi</th><th>obec</th><th>platiod</th><th>platido</th><th>okres</th><th>soorp&quot;</th></tr><tr><td>i32</td><td>str</td><td>str</td><td>i32</td><td>str</td><td>str</td></tr></thead><tbody><tr><td>500011</td><td>&quot;Želechovice na…</td><td>&quot;2009&quot;</td><td>9999</td><td>&quot;Zlín&quot;</td><td>&quot;ZLÍN&quot;</td></tr><tr><td>500020</td><td>&quot;Petrov nad Des…</td><td>&quot;2010&quot;</td><td>9999</td><td>&quot;Šumperk&quot;</td><td>&quot;ŠUMPERK&quot;</td></tr><tr><td>500046</td><td>&quot;Libhošť&quot;</td><td>&quot;2011&quot;</td><td>9999</td><td>&quot;Nový Jičín&quot;</td><td>&quot;NOVÝ JIČÍN&quot;</td></tr><tr><td>500062</td><td>&quot;Krhová&quot;</td><td>&quot;2013&quot;</td><td>9999</td><td>&quot;Vsetín&quot;</td><td>&quot;VALAŠSKÉ MEZIŘ…</td></tr><tr><td>500071</td><td>&quot;Poličná&quot;</td><td>&quot;2013&quot;</td><td>9999</td><td>&quot;Vsetín&quot;</td><td>&quot;VALAŠSKÉ MEZIŘ…</td></tr></tbody></table></div>"
      ],
      "text/plain": [
       "shape: (5, 6)\n",
       "┌──────────┬──────────────────────────┬─────────┬─────────┬────────────┬───────────────────┐\n",
       "│ koduzemi ┆ obec                     ┆ platiod ┆ platido ┆ okres      ┆ soorp\"            │\n",
       "│ ---      ┆ ---                      ┆ ---     ┆ ---     ┆ ---        ┆ ---               │\n",
       "│ i32      ┆ str                      ┆ str     ┆ i32     ┆ str        ┆ str               │\n",
       "╞══════════╪══════════════════════════╪═════════╪═════════╪════════════╪═══════════════════╡\n",
       "│ 500011   ┆ Želechovice nad Dřevnicí ┆ 2009    ┆ 9999    ┆ Zlín       ┆ ZLÍN              │\n",
       "│ 500020   ┆ Petrov nad Desnou        ┆ 2010    ┆ 9999    ┆ Šumperk    ┆ ŠUMPERK           │\n",
       "│ 500046   ┆ Libhošť                  ┆ 2011    ┆ 9999    ┆ Nový Jičín ┆ NOVÝ JIČÍN        │\n",
       "│ 500062   ┆ Krhová                   ┆ 2013    ┆ 9999    ┆ Vsetín     ┆ VALAŠSKÉ MEZIŘÍČÍ │\n",
       "│ 500071   ┆ Poličná                  ┆ 2013    ┆ 9999    ┆ Vsetín     ┆ VALAŠSKÉ MEZIŘÍČÍ │\n",
       "└──────────┴──────────────────────────┴─────────┴─────────┴────────────┴───────────────────┘"
      ]
     },
     "execution_count": 6,
     "metadata": {},
     "output_type": "execute_result"
    }
   ],
   "source": [
    "# columns \"koduzemi\",\"obec\",platiod,platido,\"okres\",\"soorp\"\n",
    "uzemi_types = {\"koduzemi\": pl.Utf8, \"nazevuzemi\": pl.Utf8, \"obec\": pl.Utf8, \"platiod\": pl.Utf8, \"platido\": pl.Utf8, \"okres\": pl.Utf8, \"soorp\": pl.Utf8}\n",
    "uzemi = pl.read_csv(\"data/cis_uzemi.csv\", dtypes=uzemi_types)\n",
    "uzemi = uzemi.with_columns(pl.col(\"koduzemi\", \"platido\").cast(pl.Int32))\n",
    "uzemi.head()"
   ]
  },
  {
   "cell_type": "code",
   "execution_count": 10,
   "metadata": {},
   "outputs": [],
   "source": [
    "data= pl.read_parquet(\"data/data.parquet\").lazy()\n",
    "joined = data.select(\"rok\", \"kodukaz\", \"koduzemi\", \"hodnota\").join(uzemi.lazy().select(\"koduzemi\", \"obec\", \"okres\"), on=\"koduzemi\", how=\"inner\").collect()\n",
    "joined.describe()"
   ]
  },
  {
   "cell_type": "code",
   "execution_count": 8,
   "metadata": {},
   "outputs": [
    {
     "name": "stdout",
     "output_type": "stream",
     "text": [
      "778 ms ± 116 ms per loop (mean ± std. dev. of 7 runs, 1 loop each)\n"
     ]
    }
   ],
   "source": [
    "%timeit for x in range(10): joined.lazy().filter(pl.col(\"rok\") == 2022, pl.col(\"okres\") == \"Praha\").select(\"obec\", \"hodnota\").sort(\"hodnota\").collect()"
   ]
  },
  {
   "cell_type": "code",
   "execution_count": null,
   "metadata": {},
   "outputs": [],
   "source": []
  }
 ],
 "metadata": {
  "kernelspec": {
   "display_name": "HackujStatV5",
   "language": "python",
   "name": "python3"
  },
  "language_info": {
   "codemirror_mode": {
    "name": "ipython",
    "version": 3
   },
   "file_extension": ".py",
   "mimetype": "text/x-python",
   "name": "python",
   "nbconvert_exporter": "python",
   "pygments_lexer": "ipython3",
   "version": "3.10.13"
  }
 },
 "nbformat": 4,
 "nbformat_minor": 2
}
