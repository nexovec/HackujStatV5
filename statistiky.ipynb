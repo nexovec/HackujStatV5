{
 "cells": [
  {
   "cell_type": "code",
   "execution_count": 2,
   "metadata": {},
   "outputs": [],
   "source": [
    "import polars as pl\n",
    "import pandas as pd"
   ]
  },
  {
   "cell_type": "code",
   "execution_count": 10,
   "metadata": {},
   "outputs": [
    {
     "name": "stdout",
     "output_type": "stream",
     "text": [
      "2000\n"
     ]
    }
   ],
   "source": [
    "data_df = pd.read_parquet(\"data/data.parquet\")\n",
    "ukazatel = data_df.loc[data_df[\"kodukaz\"] == 10000]\n",
    "rocniky = ukazatel[\"rok\"].unique()\n",
    "print(min(list(rocniky)))"
   ]
  },
  {
   "cell_type": "markdown",
   "metadata": {},
   "source": [
    "## datové matice ukazatelů v letech"
   ]
  },
  {
   "cell_type": "code",
   "execution_count": 5,
   "metadata": {},
   "outputs": [
    {
     "data": {
      "text/html": [
       "<div><style>\n",
       ".dataframe > thead > tr,\n",
       ".dataframe > tbody > tr {\n",
       "  text-align: right;\n",
       "  white-space: pre-wrap;\n",
       "}\n",
       "</style>\n",
       "<small>shape: (5, 4)</small><table border=\"1\" class=\"dataframe\"><thead><tr><th>rok</th><th>kodukaz</th><th>koduzemi</th><th>hodnota</th></tr><tr><td>i32</td><td>i32</td><td>i32</td><td>f32</td></tr></thead><tbody><tr><td>2021</td><td>10000</td><td>500011</td><td>0.0</td></tr><tr><td>2021</td><td>10000</td><td>500020</td><td>0.0</td></tr><tr><td>2021</td><td>10000</td><td>500046</td><td>0.0</td></tr><tr><td>2021</td><td>10000</td><td>500062</td><td>0.0</td></tr><tr><td>2021</td><td>10000</td><td>500071</td><td>0.0</td></tr></tbody></table></div>"
      ],
      "text/plain": [
       "shape: (5, 4)\n",
       "┌──────┬─────────┬──────────┬─────────┐\n",
       "│ rok  ┆ kodukaz ┆ koduzemi ┆ hodnota │\n",
       "│ ---  ┆ ---     ┆ ---      ┆ ---     │\n",
       "│ i32  ┆ i32     ┆ i32      ┆ f32     │\n",
       "╞══════╪═════════╪══════════╪═════════╡\n",
       "│ 2021 ┆ 10000   ┆ 500011   ┆ 0.0     │\n",
       "│ 2021 ┆ 10000   ┆ 500020   ┆ 0.0     │\n",
       "│ 2021 ┆ 10000   ┆ 500046   ┆ 0.0     │\n",
       "│ 2021 ┆ 10000   ┆ 500062   ┆ 0.0     │\n",
       "│ 2021 ┆ 10000   ┆ 500071   ┆ 0.0     │\n",
       "└──────┴─────────┴──────────┴─────────┘"
      ]
     },
     "execution_count": 5,
     "metadata": {},
     "output_type": "execute_result"
    }
   ],
   "source": [
    "df = pl.scan_parquet(\"data/data.parquet\")\n",
    "df.head().collect()"
   ]
  },
  {
   "cell_type": "code",
   "execution_count": 6,
   "metadata": {},
   "outputs": [
    {
     "ename": "TypeError",
     "evalue": "'LazyFrame' object is not subscriptable (aside from slicing)\n\nUse `select()` or `filter()` instead.",
     "output_type": "error",
     "traceback": [
      "\u001b[0;31m---------------------------------------------------------------------------\u001b[0m",
      "\u001b[0;31mTypeError\u001b[0m                                 Traceback (most recent call last)",
      "Cell \u001b[0;32mIn[6], line 1\u001b[0m\n\u001b[0;32m----> 1\u001b[0m uzemi_enum \u001b[38;5;241m=\u001b[39m \u001b[43mdf\u001b[49m\u001b[43m[\u001b[49m\u001b[38;5;124;43m\"\u001b[39;49m\u001b[38;5;124;43mkoduzemi\u001b[39;49m\u001b[38;5;124;43m\"\u001b[39;49m\u001b[43m]\u001b[49m\u001b[38;5;241m.\u001b[39munique()\n\u001b[1;32m      2\u001b[0m matrix_alluzemi \u001b[38;5;241m=\u001b[39m df\u001b[38;5;241m.\u001b[39mcollect()\u001b[38;5;241m.\u001b[39mpivot(values\u001b[38;5;241m=\u001b[39m\u001b[38;5;124m\"\u001b[39m\u001b[38;5;124mhodnota\u001b[39m\u001b[38;5;124m\"\u001b[39m, index\u001b[38;5;241m=\u001b[39m(\u001b[38;5;124m\"\u001b[39m\u001b[38;5;124mrok\u001b[39m\u001b[38;5;124m\"\u001b[39m, \u001b[38;5;124m\"\u001b[39m\u001b[38;5;124mkoduzemi\u001b[39m\u001b[38;5;124m\"\u001b[39m), columns\u001b[38;5;241m=\u001b[39m\u001b[38;5;124m\"\u001b[39m\u001b[38;5;124mkodukaz\u001b[39m\u001b[38;5;124m\"\u001b[39m, aggregate_function\u001b[38;5;241m=\u001b[39m\u001b[38;5;28;01mNone\u001b[39;00m)\u001b[38;5;241m.\u001b[39mlazy()\n\u001b[1;32m      3\u001b[0m matrices \u001b[38;5;241m=\u001b[39m {}\n",
      "File \u001b[0;32m~/miniconda3/envs/HackujStatV5/lib/python3.10/site-packages/polars/lazyframe/frame.py:762\u001b[0m, in \u001b[0;36mLazyFrame.__getitem__\u001b[0;34m(self, item)\u001b[0m\n\u001b[1;32m    757\u001b[0m \u001b[38;5;28;01mif\u001b[39;00m \u001b[38;5;129;01mnot\u001b[39;00m \u001b[38;5;28misinstance\u001b[39m(item, \u001b[38;5;28mslice\u001b[39m):\n\u001b[1;32m    758\u001b[0m     msg \u001b[38;5;241m=\u001b[39m (\n\u001b[1;32m    759\u001b[0m         \u001b[38;5;124m\"\u001b[39m\u001b[38;5;124m'\u001b[39m\u001b[38;5;124mLazyFrame\u001b[39m\u001b[38;5;124m'\u001b[39m\u001b[38;5;124m object is not subscriptable (aside from slicing)\u001b[39m\u001b[38;5;124m\"\u001b[39m\n\u001b[1;32m    760\u001b[0m         \u001b[38;5;124m\"\u001b[39m\u001b[38;5;130;01m\\n\u001b[39;00m\u001b[38;5;130;01m\\n\u001b[39;00m\u001b[38;5;124mUse `select()` or `filter()` instead.\u001b[39m\u001b[38;5;124m\"\u001b[39m\n\u001b[1;32m    761\u001b[0m     )\n\u001b[0;32m--> 762\u001b[0m     \u001b[38;5;28;01mraise\u001b[39;00m \u001b[38;5;167;01mTypeError\u001b[39;00m(msg)\n\u001b[1;32m    763\u001b[0m \u001b[38;5;28;01mreturn\u001b[39;00m LazyPolarsSlice(\u001b[38;5;28mself\u001b[39m)\u001b[38;5;241m.\u001b[39mapply(item)\n",
      "\u001b[0;31mTypeError\u001b[0m: 'LazyFrame' object is not subscriptable (aside from slicing)\n\nUse `select()` or `filter()` instead."
     ]
    }
   ],
   "source": [
    "uzemi_enum = df[\"koduzemi\"].unique()\n",
    "matrix_alluzemi = df.collect().pivot(values=\"hodnota\", index=(\"rok\", \"koduzemi\"), columns=\"kodukaz\", aggregate_function=None).lazy()\n",
    "matrices = {}\n",
    "matrixes_uzemi = pl.collect_all([matrix_alluzemi.filter(pl.col(\"koduzemi\") == uzemi).drop(\"koduzemi\") for uzemi in uzemi_enum])\n",
    "len(matrixes_uzemi)"
   ]
  },
  {
   "cell_type": "code",
   "execution_count": 49,
   "metadata": {},
   "outputs": [
    {
     "data": {
      "text/html": [
       "<div><style>\n",
       ".dataframe > thead > tr,\n",
       ".dataframe > tbody > tr {\n",
       "  text-align: right;\n",
       "  white-space: pre-wrap;\n",
       "}\n",
       "</style>\n",
       "<small>shape: (14, 779)</small><table border=\"1\" class=\"dataframe\"><thead><tr><th>rok</th><th>10000</th><th>10300</th><th>10350</th><th>10360</th><th>10370</th><th>10380</th><th>10390</th><th>10391</th><th>40300</th><th>40310</th><th>40320</th><th>40331</th><th>40400</th><th>40410</th><th>40420</th><th>40500</th><th>40510</th><th>40520</th><th>40540</th><th>40550</th><th>40560</th><th>40570</th><th>40580</th><th>40590</th><th>40731</th><th>40733</th><th>40735</th><th>40737</th><th>40741</th><th>40743</th><th>40745</th><th>40747</th><th>40751</th><th>40753</th><th>40755</th><th>40757</th><th>&hellip;</th><th>402505</th><th>402602</th><th>402604</th><th>402605</th><th>402606</th><th>110960</th><th>140800</th><th>250100</th><th>250110</th><th>250120</th><th>250130</th><th>250140</th><th>250150</th><th>250160</th><th>250170</th><th>250180</th><th>250190</th><th>250200</th><th>250210</th><th>250220</th><th>250230</th><th>250240</th><th>250250</th><th>250260</th><th>250270</th><th>250280</th><th>250290</th><th>250300</th><th>250310</th><th>250320</th><th>250330</th><th>250340</th><th>250350</th><th>250360</th><th>250370</th><th>250380</th><th>250390</th></tr><tr><td>i32</td><td>f32</td><td>f32</td><td>f32</td><td>f32</td><td>f32</td><td>f32</td><td>f32</td><td>f32</td><td>f32</td><td>f32</td><td>f32</td><td>f32</td><td>f32</td><td>f32</td><td>f32</td><td>f32</td><td>f32</td><td>f32</td><td>f32</td><td>f32</td><td>f32</td><td>f32</td><td>f32</td><td>f32</td><td>f32</td><td>f32</td><td>f32</td><td>f32</td><td>f32</td><td>f32</td><td>f32</td><td>f32</td><td>f32</td><td>f32</td><td>f32</td><td>f32</td><td>&hellip;</td><td>f32</td><td>f32</td><td>f32</td><td>f32</td><td>f32</td><td>f32</td><td>f32</td><td>f32</td><td>f32</td><td>f32</td><td>f32</td><td>f32</td><td>f32</td><td>f32</td><td>f32</td><td>f32</td><td>f32</td><td>f32</td><td>f32</td><td>f32</td><td>f32</td><td>f32</td><td>f32</td><td>f32</td><td>f32</td><td>f32</td><td>f32</td><td>f32</td><td>f32</td><td>f32</td><td>f32</td><td>f32</td><td>f32</td><td>f32</td><td>f32</td><td>f32</td><td>f32</td></tr></thead><tbody><tr><td>2021</td><td>0.0</td><td>1602.589355</td><td>1.0</td><td>1.0</td><td>1.0</td><td>0.0</td><td>0.0</td><td>2.0</td><td>1.0</td><td>103.0</td><td>4.0</td><td>7.6</td><td>1.0</td><td>20.0</td><td>1.0</td><td>1.0</td><td>358.0</td><td>18.0</td><td>0.0</td><td>0.0</td><td>0.0</td><td>10.7</td><td>13.5</td><td>2.0</td><td>0.0</td><td>0.0</td><td>0.0</td><td>0.0</td><td>0.0</td><td>0.0</td><td>0.0</td><td>0.0</td><td>0.0</td><td>0.0</td><td>0.0</td><td>0.0</td><td>&hellip;</td><td>null</td><td>null</td><td>null</td><td>null</td><td>null</td><td>null</td><td>null</td><td>null</td><td>null</td><td>null</td><td>null</td><td>null</td><td>null</td><td>null</td><td>null</td><td>null</td><td>null</td><td>null</td><td>null</td><td>null</td><td>null</td><td>null</td><td>null</td><td>null</td><td>null</td><td>null</td><td>null</td><td>null</td><td>null</td><td>null</td><td>null</td><td>null</td><td>null</td><td>null</td><td>null</td><td>null</td><td>null</td></tr><tr><td>2022</td><td>0.0</td><td>1602.589355</td><td>1.0</td><td>1.0</td><td>1.0</td><td>0.0</td><td>0.0</td><td>2.0</td><td>null</td><td>null</td><td>null</td><td>null</td><td>null</td><td>null</td><td>null</td><td>null</td><td>null</td><td>null</td><td>null</td><td>null</td><td>null</td><td>null</td><td>null</td><td>null</td><td>null</td><td>null</td><td>null</td><td>null</td><td>null</td><td>null</td><td>null</td><td>null</td><td>null</td><td>null</td><td>null</td><td>null</td><td>&hellip;</td><td>null</td><td>null</td><td>null</td><td>null</td><td>null</td><td>null</td><td>null</td><td>null</td><td>null</td><td>null</td><td>null</td><td>null</td><td>null</td><td>null</td><td>null</td><td>null</td><td>null</td><td>null</td><td>null</td><td>null</td><td>null</td><td>null</td><td>null</td><td>null</td><td>null</td><td>null</td><td>null</td><td>null</td><td>null</td><td>null</td><td>null</td><td>null</td><td>null</td><td>null</td><td>null</td><td>null</td><td>null</td></tr><tr><td>2020</td><td>0.0</td><td>1602.589233</td><td>1.0</td><td>1.0</td><td>1.0</td><td>0.0</td><td>0.0</td><td>2.0</td><td>1.0</td><td>102.0</td><td>4.0</td><td>7.6</td><td>0.0</td><td>0.0</td><td>0.0</td><td>1.0</td><td>325.0</td><td>18.0</td><td>0.0</td><td>0.0</td><td>0.0</td><td>11.9</td><td>13.5</td><td>null</td><td>0.0</td><td>0.0</td><td>0.0</td><td>0.0</td><td>0.0</td><td>0.0</td><td>0.0</td><td>0.0</td><td>0.0</td><td>0.0</td><td>0.0</td><td>0.0</td><td>&hellip;</td><td>null</td><td>null</td><td>null</td><td>null</td><td>null</td><td>null</td><td>null</td><td>null</td><td>null</td><td>null</td><td>null</td><td>null</td><td>null</td><td>null</td><td>null</td><td>null</td><td>null</td><td>null</td><td>null</td><td>null</td><td>null</td><td>null</td><td>null</td><td>null</td><td>null</td><td>null</td><td>null</td><td>null</td><td>null</td><td>null</td><td>null</td><td>null</td><td>null</td><td>null</td><td>null</td><td>null</td><td>null</td></tr><tr><td>2019</td><td>0.0</td><td>1602.589233</td><td>1.0</td><td>1.0</td><td>1.0</td><td>0.0</td><td>0.0</td><td>2.0</td><td>1.0</td><td>79.0</td><td>3.0</td><td>5.8</td><td>0.0</td><td>0.0</td><td>0.0</td><td>1.0</td><td>337.0</td><td>17.0</td><td>0.0</td><td>0.0</td><td>0.0</td><td>9.4</td><td>14.2</td><td>null</td><td>0.0</td><td>0.0</td><td>0.0</td><td>0.0</td><td>0.0</td><td>0.0</td><td>0.0</td><td>0.0</td><td>0.0</td><td>0.0</td><td>0.0</td><td>0.0</td><td>&hellip;</td><td>null</td><td>null</td><td>null</td><td>null</td><td>null</td><td>null</td><td>null</td><td>null</td><td>null</td><td>null</td><td>null</td><td>null</td><td>null</td><td>null</td><td>null</td><td>null</td><td>null</td><td>null</td><td>null</td><td>null</td><td>null</td><td>null</td><td>null</td><td>null</td><td>null</td><td>null</td><td>null</td><td>null</td><td>null</td><td>null</td><td>null</td><td>null</td><td>null</td><td>null</td><td>null</td><td>null</td><td>null</td></tr><tr><td>2018</td><td>0.0</td><td>1602.589233</td><td>1.0</td><td>1.0</td><td>1.0</td><td>0.0</td><td>0.0</td><td>2.0</td><td>1.0</td><td>81.0</td><td>3.0</td><td>6.0</td><td>0.0</td><td>0.0</td><td>0.0</td><td>1.0</td><td>321.0</td><td>17.0</td><td>0.0</td><td>0.0</td><td>0.0</td><td>9.7</td><td>13.6</td><td>null</td><td>0.0</td><td>0.0</td><td>0.0</td><td>0.0</td><td>0.0</td><td>0.0</td><td>0.0</td><td>0.0</td><td>0.0</td><td>0.0</td><td>0.0</td><td>0.0</td><td>&hellip;</td><td>null</td><td>null</td><td>null</td><td>null</td><td>null</td><td>null</td><td>null</td><td>null</td><td>null</td><td>null</td><td>null</td><td>null</td><td>null</td><td>null</td><td>null</td><td>null</td><td>null</td><td>null</td><td>null</td><td>null</td><td>null</td><td>null</td><td>null</td><td>null</td><td>null</td><td>null</td><td>null</td><td>null</td><td>null</td><td>null</td><td>null</td><td>null</td><td>null</td><td>null</td><td>null</td><td>null</td><td>null</td></tr><tr><td>2017</td><td>0.0</td><td>1602.588867</td><td>1.0</td><td>1.0</td><td>1.0</td><td>0.0</td><td>0.0</td><td>2.0</td><td>1.0</td><td>84.0</td><td>3.0</td><td>6.0</td><td>0.0</td><td>0.0</td><td>0.0</td><td>1.0</td><td>301.0</td><td>16.0</td><td>0.0</td><td>0.0</td><td>0.0</td><td>10.7</td><td>11.3</td><td>null</td><td>0.0</td><td>0.0</td><td>0.0</td><td>0.0</td><td>0.0</td><td>0.0</td><td>0.0</td><td>0.0</td><td>0.0</td><td>0.0</td><td>0.0</td><td>0.0</td><td>&hellip;</td><td>null</td><td>null</td><td>null</td><td>null</td><td>null</td><td>null</td><td>null</td><td>null</td><td>null</td><td>null</td><td>null</td><td>null</td><td>null</td><td>null</td><td>null</td><td>null</td><td>null</td><td>null</td><td>null</td><td>null</td><td>null</td><td>null</td><td>null</td><td>null</td><td>null</td><td>null</td><td>null</td><td>null</td><td>null</td><td>null</td><td>null</td><td>null</td><td>null</td><td>null</td><td>null</td><td>null</td><td>null</td></tr><tr><td>2016</td><td>0.0</td><td>1602.588867</td><td>1.0</td><td>1.0</td><td>1.0</td><td>0.0</td><td>0.0</td><td>2.0</td><td>1.0</td><td>84.0</td><td>3.0</td><td>6.0</td><td>0.0</td><td>0.0</td><td>0.0</td><td>1.0</td><td>285.0</td><td>15.0</td><td>0.0</td><td>0.0</td><td>0.0</td><td>9.0</td><td>9.5</td><td>null</td><td>0.0</td><td>0.0</td><td>0.0</td><td>0.0</td><td>0.0</td><td>0.0</td><td>0.0</td><td>0.0</td><td>0.0</td><td>0.0</td><td>0.0</td><td>0.0</td><td>&hellip;</td><td>null</td><td>null</td><td>null</td><td>null</td><td>null</td><td>null</td><td>null</td><td>null</td><td>null</td><td>null</td><td>null</td><td>null</td><td>null</td><td>null</td><td>null</td><td>null</td><td>null</td><td>null</td><td>null</td><td>null</td><td>null</td><td>null</td><td>null</td><td>null</td><td>null</td><td>null</td><td>null</td><td>null</td><td>null</td><td>null</td><td>null</td><td>null</td><td>null</td><td>null</td><td>null</td><td>null</td><td>null</td></tr><tr><td>2015</td><td>0.0</td><td>1602.576416</td><td>1.0</td><td>1.0</td><td>1.0</td><td>0.0</td><td>0.0</td><td>2.0</td><td>1.0</td><td>84.0</td><td>3.0</td><td>6.0</td><td>0.0</td><td>0.0</td><td>0.0</td><td>1.0</td><td>272.0</td><td>14.0</td><td>0.0</td><td>0.0</td><td>0.0</td><td>8.8</td><td>9.3</td><td>null</td><td>0.0</td><td>0.0</td><td>0.0</td><td>0.0</td><td>0.0</td><td>0.0</td><td>0.0</td><td>0.0</td><td>0.0</td><td>0.0</td><td>0.0</td><td>0.0</td><td>&hellip;</td><td>null</td><td>null</td><td>null</td><td>null</td><td>null</td><td>null</td><td>null</td><td>null</td><td>null</td><td>null</td><td>null</td><td>null</td><td>null</td><td>null</td><td>null</td><td>null</td><td>null</td><td>null</td><td>null</td><td>null</td><td>null</td><td>null</td><td>null</td><td>null</td><td>null</td><td>null</td><td>null</td><td>null</td><td>null</td><td>null</td><td>null</td><td>null</td><td>null</td><td>null</td><td>null</td><td>null</td><td>null</td></tr><tr><td>2014</td><td>0.0</td><td>1602.576416</td><td>1.0</td><td>1.0</td><td>1.0</td><td>0.0</td><td>0.0</td><td>2.0</td><td>1.0</td><td>84.0</td><td>3.0</td><td>6.0</td><td>0.0</td><td>0.0</td><td>0.0</td><td>1.0</td><td>259.0</td><td>12.0</td><td>0.0</td><td>0.0</td><td>0.0</td><td>8.0</td><td>7.8</td><td>null</td><td>0.0</td><td>0.0</td><td>0.0</td><td>0.0</td><td>0.0</td><td>0.0</td><td>0.0</td><td>0.0</td><td>0.0</td><td>0.0</td><td>0.0</td><td>0.0</td><td>&hellip;</td><td>null</td><td>null</td><td>null</td><td>null</td><td>null</td><td>null</td><td>null</td><td>null</td><td>null</td><td>null</td><td>null</td><td>null</td><td>null</td><td>null</td><td>null</td><td>null</td><td>null</td><td>null</td><td>null</td><td>null</td><td>null</td><td>null</td><td>null</td><td>null</td><td>null</td><td>null</td><td>null</td><td>null</td><td>null</td><td>null</td><td>null</td><td>null</td><td>null</td><td>null</td><td>null</td><td>null</td><td>null</td></tr><tr><td>2013</td><td>0.0</td><td>1602.576294</td><td>1.0</td><td>1.0</td><td>1.0</td><td>0.0</td><td>0.0</td><td>2.0</td><td>1.0</td><td>84.0</td><td>3.0</td><td>6.0</td><td>0.0</td><td>0.0</td><td>0.0</td><td>1.0</td><td>248.0</td><td>11.0</td><td>0.0</td><td>0.0</td><td>0.0</td><td>6.8</td><td>9.1</td><td>null</td><td>0.0</td><td>0.0</td><td>0.0</td><td>0.0</td><td>0.0</td><td>0.0</td><td>0.0</td><td>0.0</td><td>0.0</td><td>0.0</td><td>0.0</td><td>0.0</td><td>&hellip;</td><td>null</td><td>null</td><td>null</td><td>null</td><td>null</td><td>null</td><td>null</td><td>null</td><td>null</td><td>null</td><td>null</td><td>null</td><td>null</td><td>null</td><td>null</td><td>null</td><td>null</td><td>null</td><td>null</td><td>null</td><td>null</td><td>null</td><td>null</td><td>null</td><td>null</td><td>null</td><td>null</td><td>null</td><td>null</td><td>null</td><td>null</td><td>null</td><td>null</td><td>null</td><td>null</td><td>null</td><td>null</td></tr><tr><td>2012</td><td>0.0</td><td>1602.576172</td><td>1.0</td><td>1.0</td><td>1.0</td><td>0.0</td><td>0.0</td><td>2.0</td><td>1.0</td><td>84.0</td><td>3.0</td><td>6.0</td><td>0.0</td><td>0.0</td><td>0.0</td><td>1.0</td><td>238.0</td><td>13.0</td><td>0.0</td><td>0.0</td><td>0.0</td><td>8.0</td><td>9.6</td><td>null</td><td>0.0</td><td>0.0</td><td>0.0</td><td>0.0</td><td>0.0</td><td>0.0</td><td>0.0</td><td>0.0</td><td>0.0</td><td>0.0</td><td>0.0</td><td>0.0</td><td>&hellip;</td><td>null</td><td>null</td><td>null</td><td>null</td><td>null</td><td>null</td><td>null</td><td>null</td><td>null</td><td>null</td><td>null</td><td>null</td><td>null</td><td>null</td><td>null</td><td>null</td><td>null</td><td>null</td><td>null</td><td>null</td><td>null</td><td>null</td><td>null</td><td>null</td><td>null</td><td>null</td><td>null</td><td>null</td><td>null</td><td>null</td><td>null</td><td>null</td><td>null</td><td>null</td><td>null</td><td>null</td><td>null</td></tr><tr><td>2011</td><td>0.0</td><td>1602.574585</td><td>1.0</td><td>1.0</td><td>1.0</td><td>0.0</td><td>0.0</td><td>2.0</td><td>1.0</td><td>84.0</td><td>3.0</td><td>6.0</td><td>0.0</td><td>0.0</td><td>0.0</td><td>1.0</td><td>247.0</td><td>13.0</td><td>0.0</td><td>0.0</td><td>0.0</td><td>6.8</td><td>11.7</td><td>null</td><td>0.0</td><td>0.0</td><td>0.0</td><td>0.0</td><td>0.0</td><td>0.0</td><td>0.0</td><td>0.0</td><td>0.0</td><td>0.0</td><td>0.0</td><td>0.0</td><td>&hellip;</td><td>null</td><td>null</td><td>null</td><td>null</td><td>null</td><td>null</td><td>null</td><td>null</td><td>null</td><td>null</td><td>null</td><td>null</td><td>null</td><td>null</td><td>null</td><td>null</td><td>null</td><td>null</td><td>null</td><td>null</td><td>null</td><td>null</td><td>null</td><td>null</td><td>null</td><td>null</td><td>null</td><td>null</td><td>null</td><td>null</td><td>null</td><td>null</td><td>null</td><td>null</td><td>null</td><td>null</td><td>null</td></tr><tr><td>2010</td><td>0.0</td><td>1602.574341</td><td>1.0</td><td>1.0</td><td>1.0</td><td>0.0</td><td>0.0</td><td>2.0</td><td>1.0</td><td>56.0</td><td>2.0</td><td>4.0</td><td>0.0</td><td>0.0</td><td>0.0</td><td>1.0</td><td>260.0</td><td>14.0</td><td>0.0</td><td>0.0</td><td>0.0</td><td>7.2</td><td>12.5</td><td>null</td><td>null</td><td>null</td><td>null</td><td>null</td><td>null</td><td>null</td><td>null</td><td>null</td><td>null</td><td>null</td><td>null</td><td>null</td><td>&hellip;</td><td>null</td><td>null</td><td>null</td><td>null</td><td>null</td><td>null</td><td>null</td><td>null</td><td>null</td><td>null</td><td>null</td><td>null</td><td>null</td><td>null</td><td>null</td><td>null</td><td>null</td><td>null</td><td>null</td><td>null</td><td>null</td><td>null</td><td>null</td><td>null</td><td>null</td><td>null</td><td>null</td><td>null</td><td>null</td><td>null</td><td>null</td><td>null</td><td>null</td><td>null</td><td>null</td><td>null</td><td>null</td></tr><tr><td>2009</td><td>0.0</td><td>1602.574707</td><td>1.0</td><td>1.0</td><td>1.0</td><td>0.0</td><td>0.0</td><td>2.0</td><td>null</td><td>null</td><td>null</td><td>4.0</td><td>null</td><td>null</td><td>null</td><td>1.0</td><td>265.0</td><td>14.0</td><td>null</td><td>null</td><td>null</td><td>6.7</td><td>12.3</td><td>null</td><td>null</td><td>null</td><td>null</td><td>null</td><td>null</td><td>null</td><td>null</td><td>null</td><td>null</td><td>null</td><td>null</td><td>null</td><td>&hellip;</td><td>null</td><td>null</td><td>null</td><td>null</td><td>null</td><td>null</td><td>null</td><td>null</td><td>null</td><td>null</td><td>null</td><td>null</td><td>null</td><td>null</td><td>null</td><td>null</td><td>null</td><td>null</td><td>null</td><td>null</td><td>null</td><td>null</td><td>null</td><td>null</td><td>null</td><td>null</td><td>null</td><td>null</td><td>null</td><td>null</td><td>null</td><td>null</td><td>null</td><td>null</td><td>null</td><td>null</td><td>null</td></tr></tbody></table></div>"
      ],
      "text/plain": [
       "shape: (14, 779)\n",
       "┌──────┬───────┬─────────────┬───────┬───┬────────┬────────┬────────┬────────┐\n",
       "│ rok  ┆ 10000 ┆ 10300       ┆ 10350 ┆ … ┆ 250360 ┆ 250370 ┆ 250380 ┆ 250390 │\n",
       "│ ---  ┆ ---   ┆ ---         ┆ ---   ┆   ┆ ---    ┆ ---    ┆ ---    ┆ ---    │\n",
       "│ i32  ┆ f32   ┆ f32         ┆ f32   ┆   ┆ f32    ┆ f32    ┆ f32    ┆ f32    │\n",
       "╞══════╪═══════╪═════════════╪═══════╪═══╪════════╪════════╪════════╪════════╡\n",
       "│ 2021 ┆ 0.0   ┆ 1602.589355 ┆ 1.0   ┆ … ┆ null   ┆ null   ┆ null   ┆ null   │\n",
       "│ 2022 ┆ 0.0   ┆ 1602.589355 ┆ 1.0   ┆ … ┆ null   ┆ null   ┆ null   ┆ null   │\n",
       "│ 2020 ┆ 0.0   ┆ 1602.589233 ┆ 1.0   ┆ … ┆ null   ┆ null   ┆ null   ┆ null   │\n",
       "│ 2019 ┆ 0.0   ┆ 1602.589233 ┆ 1.0   ┆ … ┆ null   ┆ null   ┆ null   ┆ null   │\n",
       "│ 2018 ┆ 0.0   ┆ 1602.589233 ┆ 1.0   ┆ … ┆ null   ┆ null   ┆ null   ┆ null   │\n",
       "│ …    ┆ …     ┆ …           ┆ …     ┆ … ┆ …      ┆ …      ┆ …      ┆ …      │\n",
       "│ 2013 ┆ 0.0   ┆ 1602.576294 ┆ 1.0   ┆ … ┆ null   ┆ null   ┆ null   ┆ null   │\n",
       "│ 2012 ┆ 0.0   ┆ 1602.576172 ┆ 1.0   ┆ … ┆ null   ┆ null   ┆ null   ┆ null   │\n",
       "│ 2011 ┆ 0.0   ┆ 1602.574585 ┆ 1.0   ┆ … ┆ null   ┆ null   ┆ null   ┆ null   │\n",
       "│ 2010 ┆ 0.0   ┆ 1602.574341 ┆ 1.0   ┆ … ┆ null   ┆ null   ┆ null   ┆ null   │\n",
       "│ 2009 ┆ 0.0   ┆ 1602.574707 ┆ 1.0   ┆ … ┆ null   ┆ null   ┆ null   ┆ null   │\n",
       "└──────┴───────┴─────────────┴───────┴───┴────────┴────────┴────────┴────────┘"
      ]
     },
     "execution_count": 49,
     "metadata": {},
     "output_type": "execute_result"
    }
   ],
   "source": [
    "matrixes_uzemi[0]"
   ]
  },
  {
   "cell_type": "code",
   "execution_count": 28,
   "metadata": {},
   "outputs": [
    {
     "ename": "ComputeError",
     "evalue": "found multiple elements in the same group, please specify an aggregation function",
     "output_type": "error",
     "traceback": [
      "\u001b[0;31m---------------------------------------------------------------------------\u001b[0m",
      "\u001b[0;31mComputeError\u001b[0m                              Traceback (most recent call last)",
      "\u001b[0;32m/tmp/ipykernel_162743/658844950.py\u001b[0m in \u001b[0;36m?\u001b[0;34m()\u001b[0m\n\u001b[1;32m      1\u001b[0m \u001b[0;31m# df = df.filter(pl.col(\"rok\") == 2021)\u001b[0m\u001b[0;34m\u001b[0m\u001b[0;34m\u001b[0m\u001b[0m\n\u001b[1;32m      2\u001b[0m \u001b[0;31m# df.head()\u001b[0m\u001b[0;34m\u001b[0m\u001b[0;34m\u001b[0m\u001b[0m\n\u001b[1;32m      3\u001b[0m \u001b[0;32mfor\u001b[0m \u001b[0muzemi\u001b[0m \u001b[0;32min\u001b[0m \u001b[0mdf\u001b[0m\u001b[0;34m[\u001b[0m\u001b[0;34m\"koduzemi\"\u001b[0m\u001b[0;34m]\u001b[0m\u001b[0;34m.\u001b[0m\u001b[0munique\u001b[0m\u001b[0;34m(\u001b[0m\u001b[0;34m)\u001b[0m\u001b[0;34m.\u001b[0m\u001b[0mto_list\u001b[0m\u001b[0;34m(\u001b[0m\u001b[0;34m)\u001b[0m\u001b[0;34m:\u001b[0m\u001b[0;34m\u001b[0m\u001b[0;34m\u001b[0m\u001b[0m\n\u001b[1;32m      4\u001b[0m     \u001b[0mdf_uzemi\u001b[0m \u001b[0;34m=\u001b[0m \u001b[0mdf\u001b[0m\u001b[0;34m.\u001b[0m\u001b[0mfilter\u001b[0m\u001b[0;34m(\u001b[0m\u001b[0mpl\u001b[0m\u001b[0;34m.\u001b[0m\u001b[0mcol\u001b[0m\u001b[0;34m(\u001b[0m\u001b[0;34m\"koduzemi\"\u001b[0m\u001b[0;34m)\u001b[0m \u001b[0;34m==\u001b[0m \u001b[0muzemi\u001b[0m\u001b[0;34m)\u001b[0m\u001b[0;34m\u001b[0m\u001b[0;34m\u001b[0m\u001b[0m\n\u001b[0;32m----> 5\u001b[0;31m     \u001b[0mmatrix_uzemi\u001b[0m \u001b[0;34m=\u001b[0m \u001b[0mdf_uzemi\u001b[0m\u001b[0;34m.\u001b[0m\u001b[0mpivot\u001b[0m\u001b[0;34m(\u001b[0m\u001b[0;34m\"rok\"\u001b[0m\u001b[0;34m,\u001b[0m \u001b[0;34m\"kodukaz\"\u001b[0m\u001b[0;34m,\u001b[0m \u001b[0;34m\"hodnota\"\u001b[0m\u001b[0;34m)\u001b[0m\u001b[0;34m\u001b[0m\u001b[0;34m\u001b[0m\u001b[0m\n\u001b[0m\u001b[1;32m      6\u001b[0m     \u001b[0mprint\u001b[0m\u001b[0;34m(\u001b[0m\u001b[0mmatrix_uzemi\u001b[0m\u001b[0;34m)\u001b[0m\u001b[0;34m\u001b[0m\u001b[0;34m\u001b[0m\u001b[0m\n\u001b[1;32m      7\u001b[0m     \u001b[0;32mbreak\u001b[0m\u001b[0;34m\u001b[0m\u001b[0;34m\u001b[0m\u001b[0m\n",
      "\u001b[0;32m~/miniconda3/envs/HackujStatV5/lib/python3.10/site-packages/polars/dataframe/frame.py\u001b[0m in \u001b[0;36m?\u001b[0;34m(self, values, index, columns, aggregate_function, maintain_order, sort_columns, separator)\u001b[0m\n\u001b[1;32m   7408\u001b[0m         \u001b[0;32melse\u001b[0m\u001b[0;34m:\u001b[0m\u001b[0;34m\u001b[0m\u001b[0;34m\u001b[0m\u001b[0m\n\u001b[1;32m   7409\u001b[0m             \u001b[0maggregate_expr\u001b[0m \u001b[0;34m=\u001b[0m \u001b[0maggregate_function\u001b[0m\u001b[0;34m.\u001b[0m\u001b[0m_pyexpr\u001b[0m\u001b[0;34m\u001b[0m\u001b[0;34m\u001b[0m\u001b[0m\n\u001b[1;32m   7410\u001b[0m \u001b[0;34m\u001b[0m\u001b[0m\n\u001b[1;32m   7411\u001b[0m         return self._from_pydf(\n\u001b[0;32m-> 7412\u001b[0;31m             self._df.pivot_expr(\n\u001b[0m\u001b[1;32m   7413\u001b[0m                 \u001b[0mvalues\u001b[0m\u001b[0;34m,\u001b[0m\u001b[0;34m\u001b[0m\u001b[0;34m\u001b[0m\u001b[0m\n\u001b[1;32m   7414\u001b[0m                 \u001b[0mindex\u001b[0m\u001b[0;34m,\u001b[0m\u001b[0;34m\u001b[0m\u001b[0;34m\u001b[0m\u001b[0m\n\u001b[1;32m   7415\u001b[0m                 \u001b[0mcolumns\u001b[0m\u001b[0;34m,\u001b[0m\u001b[0;34m\u001b[0m\u001b[0;34m\u001b[0m\u001b[0m\n",
      "\u001b[0;31mComputeError\u001b[0m: found multiple elements in the same group, please specify an aggregation function"
     ]
    }
   ],
   "source": [
    "# df = df.filter(pl.col(\"rok\") == 2021)\n",
    "# df.head()\n",
    "for uzemi in df[\"koduzemi\"].unique().to_list():\n",
    "    print(uzemi)\n",
    "    df_uzemi = df.filter(pl.col(\"koduzemi\") == uzemi)\n",
    "    matrix_uzemi = df_uzemi.pivot(\"rok\", \"kodukaz\", \"hodnota\")\n",
    "    print(matrix_uzemi)\n",
    "    break"
   ]
  },
  {
   "cell_type": "code",
   "execution_count": 4,
   "metadata": {},
   "outputs": [
    {
     "data": {
      "text/html": [
       "<div><style>\n",
       ".dataframe > thead > tr,\n",
       ".dataframe > tbody > tr {\n",
       "  text-align: right;\n",
       "  white-space: pre-wrap;\n",
       "}\n",
       "</style>\n",
       "<small>shape: (5, 4)</small><table border=\"1\" class=\"dataframe\"><thead><tr><th>rok</th><th>kodukaz</th><th>koduzemi</th><th>hodnota</th></tr><tr><td>i32</td><td>i32</td><td>i32</td><td>f32</td></tr></thead><tbody><tr><td>2021</td><td>10000</td><td>500011</td><td>0.0</td></tr><tr><td>2021</td><td>10000</td><td>500020</td><td>0.0</td></tr><tr><td>2021</td><td>10000</td><td>500046</td><td>0.0</td></tr><tr><td>2021</td><td>10000</td><td>500062</td><td>0.0</td></tr><tr><td>2021</td><td>10000</td><td>500071</td><td>0.0</td></tr></tbody></table></div>"
      ],
      "text/plain": [
       "shape: (5, 4)\n",
       "┌──────┬─────────┬──────────┬─────────┐\n",
       "│ rok  ┆ kodukaz ┆ koduzemi ┆ hodnota │\n",
       "│ ---  ┆ ---     ┆ ---      ┆ ---     │\n",
       "│ i32  ┆ i32     ┆ i32      ┆ f32     │\n",
       "╞══════╪═════════╪══════════╪═════════╡\n",
       "│ 2021 ┆ 10000   ┆ 500011   ┆ 0.0     │\n",
       "│ 2021 ┆ 10000   ┆ 500020   ┆ 0.0     │\n",
       "│ 2021 ┆ 10000   ┆ 500046   ┆ 0.0     │\n",
       "│ 2021 ┆ 10000   ┆ 500062   ┆ 0.0     │\n",
       "│ 2021 ┆ 10000   ┆ 500071   ┆ 0.0     │\n",
       "└──────┴─────────┴──────────┴─────────┘"
      ]
     },
     "execution_count": 4,
     "metadata": {},
     "output_type": "execute_result"
    }
   ],
   "source": []
  },
  {
   "cell_type": "code",
   "execution_count": null,
   "metadata": {},
   "outputs": [],
   "source": []
  }
 ],
 "metadata": {
  "kernelspec": {
   "display_name": "HackujStatV5",
   "language": "python",
   "name": "python3"
  },
  "language_info": {
   "codemirror_mode": {
    "name": "ipython",
    "version": 3
   },
   "file_extension": ".py",
   "mimetype": "text/x-python",
   "name": "python",
   "nbconvert_exporter": "python",
   "pygments_lexer": "ipython3",
   "version": "3.10.13"
  }
 },
 "nbformat": 4,
 "nbformat_minor": 2
}
