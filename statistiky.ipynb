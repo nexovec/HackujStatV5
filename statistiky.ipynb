{
 "cells": [
  {
   "cell_type": "code",
   "execution_count": 5,
   "metadata": {},
   "outputs": [],
   "source": [
    "import polars as pl\n",
    "import pandas as pd"
   ]
  },
  {
   "cell_type": "code",
   "execution_count": 9,
   "metadata": {},
   "outputs": [
    {
     "name": "stdout",
     "output_type": "stream",
     "text": [
      "[2021, 2022, 2020, 2019, 2018, 2017, 2016, 2015, 2014, 2013, 2012, 2011, 2010, 2009, 2008, 2007, 2006, 2005, 2004, 2003, 2002, 2001, 2000]\n"
     ]
    }
   ],
   "source": [
    "data_df = pd.read_parquet(\"data/data.parquet\")\n",
    "ukazatel = data_df.loc[data_df[\"kodukaz\"] == 10000]\n",
    "rocniky = ukazatel[\"rok\"].unique()\n",
    "print(min(list(rocniky)))"
   ]
  },
  {
   "cell_type": "code",
   "execution_count": 2,
   "metadata": {},
   "outputs": [],
   "source": [
    "df = pl.read_parquet(\"data/data.parquet\")"
   ]
  },
  {
   "cell_type": "code",
   "execution_count": 3,
   "metadata": {},
   "outputs": [],
   "source": [
    "# df = df.filter(pl.col(\"rok\") == 2021)\n",
    "# df.head()"
   ]
  },
  {
   "cell_type": "code",
   "execution_count": 4,
   "metadata": {},
   "outputs": [
    {
     "data": {
      "text/html": [
       "<div><style>\n",
       ".dataframe > thead > tr,\n",
       ".dataframe > tbody > tr {\n",
       "  text-align: right;\n",
       "  white-space: pre-wrap;\n",
       "}\n",
       "</style>\n",
       "<small>shape: (5, 4)</small><table border=\"1\" class=\"dataframe\"><thead><tr><th>rok</th><th>kodukaz</th><th>koduzemi</th><th>hodnota</th></tr><tr><td>i32</td><td>i32</td><td>i32</td><td>f32</td></tr></thead><tbody><tr><td>2021</td><td>10000</td><td>500011</td><td>0.0</td></tr><tr><td>2021</td><td>10000</td><td>500020</td><td>0.0</td></tr><tr><td>2021</td><td>10000</td><td>500046</td><td>0.0</td></tr><tr><td>2021</td><td>10000</td><td>500062</td><td>0.0</td></tr><tr><td>2021</td><td>10000</td><td>500071</td><td>0.0</td></tr></tbody></table></div>"
      ],
      "text/plain": [
       "shape: (5, 4)\n",
       "┌──────┬─────────┬──────────┬─────────┐\n",
       "│ rok  ┆ kodukaz ┆ koduzemi ┆ hodnota │\n",
       "│ ---  ┆ ---     ┆ ---      ┆ ---     │\n",
       "│ i32  ┆ i32     ┆ i32      ┆ f32     │\n",
       "╞══════╪═════════╪══════════╪═════════╡\n",
       "│ 2021 ┆ 10000   ┆ 500011   ┆ 0.0     │\n",
       "│ 2021 ┆ 10000   ┆ 500020   ┆ 0.0     │\n",
       "│ 2021 ┆ 10000   ┆ 500046   ┆ 0.0     │\n",
       "│ 2021 ┆ 10000   ┆ 500062   ┆ 0.0     │\n",
       "│ 2021 ┆ 10000   ┆ 500071   ┆ 0.0     │\n",
       "└──────┴─────────┴──────────┴─────────┘"
      ]
     },
     "execution_count": 4,
     "metadata": {},
     "output_type": "execute_result"
    }
   ],
   "source": [
    "df.group_by(\"rok\").agg("
   ]
  },
  {
   "cell_type": "code",
   "execution_count": null,
   "metadata": {},
   "outputs": [],
   "source": []
  }
 ],
 "metadata": {
  "kernelspec": {
   "display_name": "HackujStatV5",
   "language": "python",
   "name": "python3"
  },
  "language_info": {
   "codemirror_mode": {
    "name": "ipython",
    "version": 3
   },
   "file_extension": ".py",
   "mimetype": "text/x-python",
   "name": "python",
   "nbconvert_exporter": "python",
   "pygments_lexer": "ipython3",
   "version": "3.10.13"
  }
 },
 "nbformat": 4,
 "nbformat_minor": 2
}
