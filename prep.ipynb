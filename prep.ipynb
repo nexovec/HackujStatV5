{
 "cells": [
  {
   "cell_type": "code",
   "execution_count": 27,
   "metadata": {},
   "outputs": [],
   "source": [
    "import polars as pl\n",
    "import pandas as pd\n",
    "import numpy as np\n",
    "import os\n"
   ]
  },
  {
   "cell_type": "code",
   "execution_count": 28,
   "metadata": {},
   "outputs": [
    {
     "data": {
      "text/html": [
       "<div><style>\n",
       ".dataframe > thead > tr,\n",
       ".dataframe > tbody > tr {\n",
       "  text-align: right;\n",
       "  white-space: pre-wrap;\n",
       "}\n",
       "</style>\n",
       "<small>shape: (5, 4)</small><table border=\"1\" class=\"dataframe\"><thead><tr><th>rok</th><th>kodukaz</th><th>koduzemi</th><th>hodnota</th></tr><tr><td>i32</td><td>i32</td><td>i32</td><td>f32</td></tr></thead><tbody><tr><td>2021</td><td>10000</td><td>500011</td><td>0.0</td></tr><tr><td>2021</td><td>10000</td><td>500020</td><td>0.0</td></tr><tr><td>2021</td><td>10000</td><td>500046</td><td>0.0</td></tr><tr><td>2021</td><td>10000</td><td>500062</td><td>0.0</td></tr><tr><td>2021</td><td>10000</td><td>500071</td><td>0.0</td></tr></tbody></table></div>"
      ],
      "text/plain": [
       "shape: (5, 4)\n",
       "┌──────┬─────────┬──────────┬─────────┐\n",
       "│ rok  ┆ kodukaz ┆ koduzemi ┆ hodnota │\n",
       "│ ---  ┆ ---     ┆ ---      ┆ ---     │\n",
       "│ i32  ┆ i32     ┆ i32      ┆ f32     │\n",
       "╞══════╪═════════╪══════════╪═════════╡\n",
       "│ 2021 ┆ 10000   ┆ 500011   ┆ 0.0     │\n",
       "│ 2021 ┆ 10000   ┆ 500020   ┆ 0.0     │\n",
       "│ 2021 ┆ 10000   ┆ 500046   ┆ 0.0     │\n",
       "│ 2021 ┆ 10000   ┆ 500062   ┆ 0.0     │\n",
       "│ 2021 ┆ 10000   ┆ 500071   ┆ 0.0     │\n",
       "└──────┴─────────┴──────────┴─────────┘"
      ]
     },
     "execution_count": 28,
     "metadata": {},
     "output_type": "execute_result"
    }
   ],
   "source": [
    "df = pl.read_parquet(\"data/data.parquet\")\n",
    "ukazatele = pl.read_csv(\"data/cis_ukazatelu.csv\")\n",
    "uzemi = pl.read_csv(\"data/cis_uzemi.csv\")\n",
    "df.head()"
   ]
  },
  {
   "cell_type": "code",
   "execution_count": 29,
   "metadata": {},
   "outputs": [],
   "source": [
    "# save yearly ukaz stats by uzemi\n",
    "years_enum = df[\"koduzemi\"].unique()\n",
    "matrix_alluzemi = df.pivot(values=\"hodnota\", index=(\"rok\", \"koduzemi\"), columns=\"kodukaz\", aggregate_function=None).lazy()\n",
    "matrices = {}\n",
    "matrixes_uzemi = pl.collect_all([matrix_alluzemi.filter(pl.col(\"koduzemi\") == uzemi) for uzemi in years_enum])\n",
    "matrixes_uzemi = {m.lazy().select(pl.col(\"koduzemi\")).head(1).collect()[0, 0]: m.drop(\"koduzemi\") for m in matrixes_uzemi}"
   ]
  },
  {
   "cell_type": "code",
   "execution_count": 30,
   "metadata": {},
   "outputs": [],
   "source": [
    "try:\n",
    "    os.mkdir(\"data/yearlystatsbyuzemi\")\n",
    "except:\n",
    "    pass\n",
    "for uzemi in matrixes_uzemi.keys():\n",
    "    matrixes_uzemi[uzemi].write_ipc(f\"data/yearlystatsbyuzemi/{uzemi}.arrow\", compression=\"uncompressed\")"
   ]
  },
  {
   "cell_type": "code",
   "execution_count": 41,
   "metadata": {},
   "outputs": [],
   "source": [
    "# save uzemi ukaz stats by year\n",
    "years_enum = df[\"rok\"].unique()\n",
    "matrix_alluzemi = df.pivot(values=\"hodnota\", index=(\"rok\", \"koduzemi\"), columns=\"kodukaz\", aggregate_function=None).lazy()\n",
    "matrixes_yearly = {}\n",
    "matrixes_yearly = pl.collect_all([matrix_alluzemi.filter(pl.col(\"rok\") == rok) for rok in years_enum])\n",
    "matrixes_yearly = {m.lazy().select(pl.col(\"rok\")).head(1).collect()[0, 0]: m.drop(\"rok\") for m in matrixes_yearly}"
   ]
  },
  {
   "cell_type": "code",
   "execution_count": 42,
   "metadata": {},
   "outputs": [],
   "source": [
    "try:\n",
    "    os.mkdir(\"data/uzemnistatsbyyears\")\n",
    "except:\n",
    "    pass\n",
    "for year in matrixes_yearly.keys():\n",
    "    matrixes_yearly[year].write_ipc(f\"data/uzemnistatsbyyears/{year}.arrow\", compression=\"uncompressed\")"
   ]
  },
  {
   "cell_type": "code",
   "execution_count": 43,
   "metadata": {},
   "outputs": [],
   "source": [
    "def get_yearly_matrices(year):\n",
    "    lf = pl.scan_ipc(f\"data/uzemnistatsbyyears/{str(year)}.arrow\", memory_map=True)\n",
    "    return lf\n",
    "def get_uzemi_matrices(uzemi):\n",
    "    lf = pl.scan_ipc(f\"data/yearlystatsbyuzemi/{str(uzemi)}.arrow\", memory_map=True)\n",
    "    return lf"
   ]
  },
  {
   "cell_type": "code",
   "execution_count": 66,
   "metadata": {},
   "outputs": [
    {
     "data": {
      "text/plain": [
       "Index(['koduzemi', '10000', '10300', '10350', '10360', '10370', '10380',\n",
       "       '10390', '10391', '40300',\n",
       "       ...\n",
       "       '160660', '160670', '160680', '160690', '160700', '160710', '160720',\n",
       "       '113000', '113010', '113020'],\n",
       "      dtype='object', length=165)"
      ]
     },
     "execution_count": 66,
     "metadata": {},
     "output_type": "execute_result"
    }
   ],
   "source": [
    "df = get_yearly_matrices(2019).collect().to_pandas().dropna(axis=1)\n",
    "df.columns"
   ]
  },
  {
   "cell_type": "code",
   "execution_count": null,
   "metadata": {},
   "outputs": [],
   "source": []
  }
 ],
 "metadata": {
  "kernelspec": {
   "display_name": "HackujStatV5",
   "language": "python",
   "name": "python3"
  },
  "language_info": {
   "codemirror_mode": {
    "name": "ipython",
    "version": 3
   },
   "file_extension": ".py",
   "mimetype": "text/x-python",
   "name": "python",
   "nbconvert_exporter": "python",
   "pygments_lexer": "ipython3",
   "version": "3.10.13"
  }
 },
 "nbformat": 4,
 "nbformat_minor": 2
}
